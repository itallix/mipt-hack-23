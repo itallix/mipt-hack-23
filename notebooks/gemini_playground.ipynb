{
 "cells": [
  {
   "cell_type": "code",
   "execution_count": 1,
   "id": "4ebeb256-5f8c-441c-b3df-fef5c1a20dd1",
   "metadata": {},
   "outputs": [
    {
     "name": "stdout",
     "output_type": "stream",
     "text": [
      "candidates {\n",
      "  content {\n",
      "    role: \"model\"\n",
      "    parts {\n",
      "      text: \" city: Rio de Janeiro, Landmark: Christ the Redeemer\"\n",
      "    }\n",
      "  }\n",
      "  finish_reason: STOP\n",
      "  safety_ratings {\n",
      "    category: HARM_CATEGORY_HARASSMENT\n",
      "    probability: NEGLIGIBLE\n",
      "  }\n",
      "  safety_ratings {\n",
      "    category: HARM_CATEGORY_HATE_SPEECH\n",
      "    probability: NEGLIGIBLE\n",
      "  }\n",
      "  safety_ratings {\n",
      "    category: HARM_CATEGORY_SEXUALLY_EXPLICIT\n",
      "    probability: NEGLIGIBLE\n",
      "  }\n",
      "  safety_ratings {\n",
      "    category: HARM_CATEGORY_DANGEROUS_CONTENT\n",
      "    probability: NEGLIGIBLE\n",
      "  }\n",
      "}\n",
      "usage_metadata {\n",
      "  prompt_token_count: 791\n",
      "  candidates_token_count: 11\n",
      "  total_token_count: 802\n",
      "}\n",
      "\n"
     ]
    }
   ],
   "source": [
    "# Sample code from https://cloud.google.com/vertex-ai/docs/generative-ai/multimodal/send-multimodal-prompts\n",
    "# REQUIRED:\n",
    "# 1. Install gcloud CLI from https://cloud.google.com/sdk/docs/install\n",
    "# 2. gcloud auth application-default login\n",
    "# 3. gcloud config set project mipt-hack-01 \n",
    "\n",
    "import http.client\n",
    "import typing\n",
    "import urllib.request\n",
    "from vertexai.preview.generative_models import GenerativeModel, Image\n",
    "\n",
    "# create helper function\n",
    "def load_image_from_url(image_url: str) -> Image:\n",
    "    with urllib.request.urlopen(image_url) as response:\n",
    "        response = typing.cast(http.client.HTTPResponse, response)\n",
    "        image_bytes = response.read()\n",
    "    return Image.from_bytes(image_bytes)\n",
    "\n",
    "# Load images from Cloud Storage URI\n",
    "landmark1 = load_image_from_url(\"https://storage.googleapis.com/cloud-samples-data/vertex-ai/llm/prompts/landmark1.png\")\n",
    "landmark2 = load_image_from_url(\"https://storage.googleapis.com/cloud-samples-data/vertex-ai/llm/prompts/landmark2.png\")\n",
    "landmark3 = load_image_from_url(\"https://storage.googleapis.com/cloud-samples-data/vertex-ai/llm/prompts/landmark3.png\")\n",
    "\n",
    "# Pass multimodal prompt\n",
    "model = GenerativeModel(\"gemini-pro-vision\")\n",
    "response = model.generate_content(\n",
    "    [landmark1, \"city: Rome, Landmark: the Colosseum\",\n",
    "     landmark2, \"city: Beijing, Landmark: Forbidden City\",\n",
    "     landmark3, ]\n",
    ")\n",
    "print(response)"
   ]
  },
  {
   "cell_type": "code",
   "execution_count": null,
   "id": "44bbcb6f-1914-4022-96f5-cb99385fb808",
   "metadata": {},
   "outputs": [],
   "source": []
  },
  {
   "cell_type": "code",
   "execution_count": null,
   "id": "d6ac84ee-1122-4722-86e5-912e93de3279",
   "metadata": {},
   "outputs": [],
   "source": []
  },
  {
   "cell_type": "code",
   "execution_count": null,
   "id": "d6476ac6-0db7-4dad-a3a1-3e6fa55bed1d",
   "metadata": {},
   "outputs": [],
   "source": []
  }
 ],
 "metadata": {
  "kernelspec": {
   "display_name": "Python 3 (ipykernel)",
   "language": "python",
   "name": "python3"
  },
  "language_info": {
   "codemirror_mode": {
    "name": "ipython",
    "version": 3
   },
   "file_extension": ".py",
   "mimetype": "text/x-python",
   "name": "python",
   "nbconvert_exporter": "python",
   "pygments_lexer": "ipython3",
   "version": "3.11.4"
  }
 },
 "nbformat": 4,
 "nbformat_minor": 5
}
